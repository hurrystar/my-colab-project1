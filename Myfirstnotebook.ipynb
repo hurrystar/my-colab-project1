{
  "nbformat": 4,
  "nbformat_minor": 0,
  "metadata": {
    "colab": {
      "provenance": [],
      "gpuType": "T4",
      "authorship_tag": "ABX9TyNFOFBstYaMo5D91eFHxxiC",
      "include_colab_link": true
    },
    "kernelspec": {
      "name": "python3",
      "display_name": "Python 3"
    },
    "language_info": {
      "name": "python"
    },
    "accelerator": "GPU"
  },
  "cells": [
    {
      "cell_type": "markdown",
      "metadata": {
        "id": "view-in-github",
        "colab_type": "text"
      },
      "source": [
        "<a href=\"https://colab.research.google.com/github/hurrystar/my-colab-project1/blob/Aviva/Myfirstnotebook.ipynb\" target=\"_parent\"><img src=\"https://colab.research.google.com/assets/colab-badge.svg\" alt=\"Open In Colab\"/></a>"
      ]
    },
    {
      "cell_type": "code",
      "execution_count": 1,
      "metadata": {
        "colab": {
          "base_uri": "https://localhost:8080/"
        },
        "id": "GLMbKhUskpZ9",
        "outputId": "39ca96bd-229c-4fb8-af8d-9d7d7cadbbc5"
      },
      "outputs": [
        {
          "output_type": "stream",
          "name": "stdout",
          "text": [
            "Hello, World!\n"
          ]
        }
      ],
      "source": [
        "print(\"Hello, World!\")"
      ]
    },
    {
      "cell_type": "code",
      "source": [
        "print(\"Hello, Colab!\")\n",
        "print(\"Hello, Python!\")"
      ],
      "metadata": {
        "colab": {
          "base_uri": "https://localhost:8080/"
        },
        "id": "u02-2rLKmRVZ",
        "outputId": "14b760e1-aaf1-4854-e31c-3abac9848e2d"
      },
      "execution_count": 2,
      "outputs": [
        {
          "output_type": "stream",
          "name": "stdout",
          "text": [
            "Hello, Colab!\n",
            "Hello, Python!\n"
          ]
        }
      ]
    },
    {
      "cell_type": "markdown",
      "source": [
        "I will do hard things"
      ],
      "metadata": {
        "id": "JOHrU0_pm9ir"
      }
    },
    {
      "cell_type": "code",
      "source": [
        "# 見出し1\n",
        "\n",
        "Markdown記法で見やすく文章を書くことができます。\n",
        "\n",
        "## 見出し2\n",
        "\n",
        "**強調**\n",
        "\n",
        "数式を書くこともできます。\n",
        "\n",
        "$$\n",
        "y=2x+1\n",
        "$$\n",
        "\n",
        "Pythonコードを書く時はコードブロックを使います。\n",
        "\n",
        "```python\n",
        "print(\"Hello, World!\")\n",
        "```\n",
        "\n",
        "- 箇条書き\n",
        "- 箇条書き\n",
        "  - 箇条書き\n",
        "\n",
        "> 引用文"
      ],
      "metadata": {
        "colab": {
          "base_uri": "https://localhost:8080/",
          "height": 110
        },
        "id": "qm7zAJg6ndfQ",
        "outputId": "7e45a9ca-ac50-494b-c831-ce8da1e86f1b"
      },
      "execution_count": 3,
      "outputs": [
        {
          "output_type": "error",
          "ename": "SyntaxError",
          "evalue": "invalid character '。' (U+3002) (<ipython-input-3-54f0580ae2d4>, line 3)",
          "traceback": [
            "\u001b[0;36m  File \u001b[0;32m\"<ipython-input-3-54f0580ae2d4>\"\u001b[0;36m, line \u001b[0;32m3\u001b[0m\n\u001b[0;31m    Markdown記法で見やすく文章を書くことができます。\u001b[0m\n\u001b[0m                               ^\u001b[0m\n\u001b[0;31mSyntaxError\u001b[0m\u001b[0;31m:\u001b[0m invalid character '。' (U+3002)\n"
          ]
        }
      ]
    },
    {
      "cell_type": "code",
      "source": [],
      "metadata": {
        "id": "OOWbccgroiYN"
      },
      "execution_count": null,
      "outputs": []
    },
    {
      "cell_type": "markdown",
      "source": [
        "# 見出し1\n",
        "\n",
        "Markdown記法で見やすく文章を書くことができます。\n",
        "\n",
        "## 見出し2\n",
        "\n",
        "**強調**\n",
        "\n",
        "数式を書くこともできます。\n",
        "\n",
        "$$\n",
        "y=2x+1\n",
        "$$\n",
        "\n",
        "Pythonコードを書く時はコードブロックを使います。\n",
        "\n",
        "```python\n",
        "print(\"Hello, World!\")\n",
        "```\n",
        "\n",
        "- 箇条書き\n",
        "- 箇条書き\n",
        "  - 箇条書き\n",
        "\n",
        "> 引用文"
      ],
      "metadata": {
        "id": "6mtqtxRioj3N"
      }
    },
    {
      "cell_type": "code",
      "source": [
        "# 見出し1\n",
        "\n",
        "Markdown記法で見やすく文章を書くことができます。\n",
        "\n",
        "## 見出し2\n",
        "\n",
        "**強調**\n",
        "\n",
        "数式を書くこともできます。\n",
        "\n",
        "$$\n",
        "y=2x+1\n",
        "$$\n",
        "\n",
        "Pythonコードを書く時はコードブロックを使います。\n",
        "\n",
        "```python\n",
        "print(\"Hello, World!\")\n",
        "```\n",
        "\n",
        "- 箇条書き\n",
        "- 箇条書き\n",
        "  - 箇条書き\n",
        "\n",
        "> 引用文"
      ],
      "metadata": {
        "colab": {
          "base_uri": "https://localhost:8080/",
          "height": 110
        },
        "id": "dFhJBo7JolAe",
        "outputId": "9cf27b93-657d-4dbd-b299-06b9c9c904cb"
      },
      "execution_count": 4,
      "outputs": [
        {
          "output_type": "error",
          "ename": "SyntaxError",
          "evalue": "invalid character '。' (U+3002) (<ipython-input-4-54f0580ae2d4>, line 3)",
          "traceback": [
            "\u001b[0;36m  File \u001b[0;32m\"<ipython-input-4-54f0580ae2d4>\"\u001b[0;36m, line \u001b[0;32m3\u001b[0m\n\u001b[0;31m    Markdown記法で見やすく文章を書くことができます。\u001b[0m\n\u001b[0m                               ^\u001b[0m\n\u001b[0;31mSyntaxError\u001b[0m\u001b[0;31m:\u001b[0m invalid character '。' (U+3002)\n"
          ]
        }
      ]
    },
    {
      "cell_type": "code",
      "source": [],
      "metadata": {
        "id": "mVRsKYg0omkM"
      },
      "execution_count": null,
      "outputs": []
    },
    {
      "cell_type": "markdown",
      "source": [
        "# 見出し1\n",
        "\n",
        "Markdown記法で見やすく文章を書くことができます。\n",
        "\n",
        "## 見出し2\n",
        "\n",
        "**強調**\n",
        "\n",
        "数式を書くこともできます。\n",
        "\n",
        "$$\n",
        "y=2x+1\n",
        "$$\n",
        "\n",
        "Pythonコードを書く時はコードブロックを使います。\n",
        "\n",
        "```python\n",
        "print(\"Hello, World!\")\n",
        "```\n",
        "\n",
        "- 箇条書き\n",
        "- 箇条書き\n",
        "  - 箇条書き\n",
        "\n",
        "> 引用文"
      ],
      "metadata": {
        "id": "B_oe5OELonV6"
      }
    },
    {
      "cell_type": "code",
      "source": [
        "import torch\n",
        "print(torch.cuda.is_available())  # Returns True if GPU is accessible\n",
        "print(torch.cuda.get_device_name(0))  # Prints the name of the GPU\n"
      ],
      "metadata": {
        "colab": {
          "base_uri": "https://localhost:8080/"
        },
        "id": "8sf5Pn36vM7O",
        "outputId": "0cadfe95-549a-465c-8383-909bc7a6927b"
      },
      "execution_count": 1,
      "outputs": [
        {
          "output_type": "stream",
          "name": "stdout",
          "text": [
            "True\n",
            "Tesla T4\n"
          ]
        }
      ]
    },
    {
      "cell_type": "code",
      "source": [],
      "metadata": {
        "id": "-gPgolcQvQZY"
      },
      "execution_count": null,
      "outputs": []
    }
  ]
}